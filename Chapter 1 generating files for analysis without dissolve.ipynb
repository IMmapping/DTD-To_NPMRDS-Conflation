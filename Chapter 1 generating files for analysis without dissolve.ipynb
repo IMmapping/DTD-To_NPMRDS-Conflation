{
 "cells": [
  {
   "cell_type": "markdown",
   "metadata": {},
   "source": [
    "A good network has three attributes; it's routable, it's comparable to other networks and it's dynamic. A network's correctness is subjective and despite best efforts, even Google gets it wrong some times. However the better a network is georectified, the easier it will be to compare to other models. Otherwise, discrepancies should be noted and sameness should be highlighted. This sameness is confirmation that the networks are comparable and determining this sameness requires taking an automated look at both of the networks, because there are surely discrepancies. "
   ]
  },
  {
   "cell_type": "code",
   "execution_count": 1,
   "metadata": {},
   "outputs": [],
   "source": [
    "# this process will use arcpy to determine the sameness of two networks\n",
    "import arcpy as ap\n",
    "\n",
    "# the csv module is used at the end of this process to write tables to csv\n",
    "import csv\n",
    "\n",
    "# the os module is also used in this process, specifically to determine the project location,\n",
    "import os\n",
    "\n",
    "\n",
    "# the Colorado DOT's modeling network \n",
    "modeling_network_file = os.getcwd() + '\\\\Modeling_Network_only_roads_copy.shp'\n",
    "    \n",
    "# and the Open Street Map network, downloaded from GeoFabrik \n",
    "osm_network_file = os.getcwd() + '\\\\gis_osm_roads_free_1.shp'"
   ]
  },
  {
   "cell_type": "markdown",
   "metadata": {},
   "source": [
    "The next cell is just used to set the directy for the output of files. If it doesn't already exist, this directory will be created in this cell."
   ]
  },
  {
   "cell_type": "code",
   "execution_count": 2,
   "metadata": {},
   "outputs": [],
   "source": [
    "# the project path is set to be the location of this file\n",
    "path_of_project = os.getcwd()\n",
    "\n",
    "# and the directory for data is a directory called Data in the project directory\n",
    "path_to_data = path_of_project + '//Data//'\n",
    "\n",
    "# if the directory for the data hasn't been created\n",
    "if not os.path.exists(path_to_data):\n",
    "    # it will be created\n",
    "    os.makedirs(path_to_data)\n",
    "\n",
    "# arcpy has a workplace parameter that sets the output to the data directory\n",
    "ap.env.workspace = path_to_data"
   ]
  },
  {
   "cell_type": "markdown",
   "metadata": {},
   "source": [
    "THe primary point of comparison of these models will be the lines' bearing, so in the following cell bearing will be added as an attribute to each network"
   ]
  },
  {
   "cell_type": "code",
   "execution_count": 3,
   "metadata": {},
   "outputs": [],
   "source": [
    "for each in [modeling_network_file, osm_network_file]:\n",
    "    try:\n",
    "        ap.AddGeometryAttributes_management(each, 'LINE_BEARING')\n",
    "    except:\n",
    "        pass"
   ]
  },
  {
   "cell_type": "markdown",
   "metadata": {},
   "source": [
    "For the most robust conflation, many points along the segments will be considered, specifically points every 50 Meters along the segments. "
   ]
  },
  {
   "cell_type": "code",
   "execution_count": null,
   "metadata": {},
   "outputs": [],
   "source": [
    "#try:\n",
    "#    ap.Delete_management(path_to_data + 'modeling_network_points.shp')\n",
    "#except:\n",
    "#    pass\n",
    "\n",
    "#ap.GeneratePointsAlongLines_management(modeling_network_file, \n",
    "#                                       path_to_data + 'modeling_network_points.shp', \n",
    "#                                       'DISTANCE', \n",
    "#                                       '50 Meters',\n",
    "#                                       '', \n",
    "#                                       'NO_END_POINTS' )"
   ]
  },
  {
   "cell_type": "markdown",
   "metadata": {},
   "source": [
    "The next step will be to consider the proximity of the points along lines to the open street maps network. The following cell simply creates a table that essentially describes the lines between the modeling network points and the open street map network. "
   ]
  },
  {
   "cell_type": "code",
   "execution_count": null,
   "metadata": {},
   "outputs": [],
   "source": [
    "try:\n",
    "    ap.Delete_management(path_to_data + 'modeling_points_every_50M_near_osm_network.dbf')\n",
    "except:\n",
    "    pass\n",
    "\n",
    "\n",
    "ap.GenerateNearTable_analysis(path_to_data + 'modeling_network_points.shp', \n",
    "                              osm_network_file,\n",
    "                              path_to_data + 'modeling_points_every_50M_near_osm_network.dbf',\n",
    "                              '75 Meters',\n",
    "                              'LOCATION',\n",
    "                              'ANGLE',\n",
    "                              'ALL',\n",
    "                               3,\n",
    "                              'GEODESIC')"
   ]
  },
  {
   "cell_type": "code",
   "execution_count": 3,
   "metadata": {},
   "outputs": [],
   "source": [
    "line_id_dict = {}\n",
    "\n",
    "with ap.da.SearchCursor(path_to_data + 'modeling_network_points.shp', ['FID', 'ORIG_FID']) as sc:\n",
    "    for row in sc:\n",
    "        line_id_dict[row[0]] = row[1]\n",
    "\n",
    "try:\n",
    "    ap.AddField_management(path_to_data + 'modeling_points_every_50M_near_osm_network.dbf', 'LINE_ID', 'SHORT')\n",
    "except:\n",
    "    pass\n",
    "\n",
    "with ap.da.UpdateCursor(path_to_data + 'modeling_points_every_50M_near_osm_network.dbf',\n",
    "                       ['IN_FID', 'LINE_ID']) as uc:\n",
    "    for row in uc:\n",
    "        new_row = row\n",
    "        new_row[1] = line_id_dict[row[0]]\n",
    "        uc.updateRow(new_row)"
   ]
  },
  {
   "cell_type": "markdown",
   "metadata": {},
   "source": [
    "Many segments will be nearly identical, these matches will be the first to be conflated and other less similiar segments will be compared lated. To create the simplest conflation a buffer of five Meters will be created around the modeling network. Five meters is slightly wider than a lane, making this distance more relevant. Matching segments from the open street maps network will be conflated to the corresponding matching segment in the modeling network."
   ]
  },
  {
   "cell_type": "code",
   "execution_count": 4,
   "metadata": {},
   "outputs": [],
   "source": [
    "import csv\n",
    "\n",
    "try:\n",
    "    os.remove(path_to_data + 'matches.csv')\n",
    "except:\n",
    "    pass\n",
    "\n",
    "with open(path_to_data + 'matches.csv', 'wb') as csvfile:\n",
    "    writer = csv.writer(csvfile)\n",
    "    \n",
    "    writer.writerow(['FID',\n",
    "                     'modeling_id', \n",
    "                     'osm_id', \n",
    "                     'distance', \n",
    "                     'NEAR_RANK',\n",
    "                     'NEAR_ANGLE', \n",
    "                     'FROM_X', \n",
    "                     'FROM_Y', \n",
    "                     'NEAR_X', \n",
    "                     'NEAR_Y'])\n",
    "    \n",
    "    \n",
    "    with ap.da.SearchCursor(path_to_data + 'modeling_points_every_50M_near_osm_network.dbf', \n",
    "                             ['OID',\n",
    "                             'LINE_ID', \n",
    "                             'NEAR_FID', \n",
    "                             'NEAR_DIST', \n",
    "                             'NEAR_RANK', \n",
    "                             'NEAR_ANGLE',\n",
    "                             'FROM_X',\n",
    "                             'FROM_Y',\n",
    "                             'NEAR_X',\n",
    "                             'NEAR_Y']) as sc:\n",
    "        for row in sc:\n",
    "            writer.writerow(row)"
   ]
  },
  {
   "cell_type": "code",
   "execution_count": 6,
   "metadata": {},
   "outputs": [
    {
     "data": {
      "text/plain": [
       "<Result 'C:\\\\Users\\\\mcintyrei\\\\Desktop\\\\Definitely\\\\OSM_Conflation//Data//all_match_lines.shp'>"
      ]
     },
     "execution_count": 6,
     "metadata": {},
     "output_type": "execute_result"
    }
   ],
   "source": [
    "ap.Delete_management(path_to_data + 'all_match_lines.shp')\n",
    "\n",
    "ap.XYToLine_management(path_to_data + 'matches.csv', \n",
    "                         path_to_data + 'all_match_lines.shp',\n",
    "                         'from_x',\n",
    "                         'from_y',\n",
    "                         'near_x',\n",
    "                         'near_y',\n",
    "                         'GEODESIC',\n",
    "                         'FID')\n",
    "\n",
    "ap.AddGeometryAttributes_management(path_to_data + 'all_match_lines.shp', 'LENGTH_GEODESIC')"
   ]
  },
  {
   "cell_type": "code",
   "execution_count": 7,
   "metadata": {},
   "outputs": [],
   "source": [
    "try:\n",
    "    os.remove(path_to_data + 'osm_attributes.csv')\n",
    "except:\n",
    "    pass\n",
    "\n",
    "with open(path_to_data + 'osm_attributes.csv', 'wb') as csvfile:\n",
    "    writer = csv.writer(csvfile)\n",
    "    writer.writerow(['osm_id', 'osm_name', 'osm_type','osm_bearing'])\n",
    "    \n",
    "    with ap.da.SearchCursor (osm_network_file, ['FID', 'name', 'fclass', 'BEARING']) as sc:\n",
    "        \n",
    "        for row in sc:\n",
    "            fid = row[0]\n",
    "            name = row[1].encode('utf')\n",
    "    \n",
    "            fclass = row[2].encode('utf')\n",
    "            bearing = round(row[3],2)\n",
    "            \n",
    "            writer.writerow([fid, name, fclass, bearing])"
   ]
  },
  {
   "cell_type": "code",
   "execution_count": 8,
   "metadata": {},
   "outputs": [],
   "source": [
    "try:\n",
    "    os.remove(path_to_data + 'modeling_attributes.csv')\n",
    "except:\n",
    "    pass\n",
    "\n",
    "with open(path_to_data + 'modeling_attributes.csv', 'wb') as csvfile:\n",
    "    writer = csv.writer(csvfile)\n",
    "    writer.writerow(['modeling_id', 'modeling_name', 'modeling_type', 'modeling_bearing'])\n",
    "    \n",
    "    with ap.da.SearchCursor(modeling_network_file, ['FID', 'NAME', 'FACILITY_T', 'BEARING']) as sc:\n",
    "        \n",
    "        for row in sc:\n",
    "            bearing = round(row[3],2)\n",
    "            \n",
    "            writer.writerow([row[0], row[1], row[2], bearing])"
   ]
  },
  {
   "cell_type": "markdown",
   "metadata": {},
   "source": [
    "The next level of analysis will consider only the divided highways. It's simple to determine these segments based on their attributes, but this is not always accurate. However, this will not be addressed until we are done with thie initial analysis."
   ]
  },
  {
   "cell_type": "code",
   "execution_count": null,
   "metadata": {},
   "outputs": [],
   "source": []
  }
 ],
 "metadata": {
  "kernelspec": {
   "display_name": "Python [conda env:arc1051]",
   "language": "python",
   "name": "conda-env-arc1051-py"
  },
  "language_info": {
   "codemirror_mode": {
    "name": "ipython",
    "version": 2
   },
   "file_extension": ".py",
   "mimetype": "text/x-python",
   "name": "python",
   "nbconvert_exporter": "python",
   "pygments_lexer": "ipython2",
   "version": "2.7.13"
  }
 },
 "nbformat": 4,
 "nbformat_minor": 2
}
